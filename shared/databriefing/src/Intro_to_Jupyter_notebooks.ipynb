{
 "cells": [
  {
   "cell_type": "markdown",
   "metadata": {},
   "source": [
    "# Interactive intro to Jupyter notebooks\n",
    "\n",
    "This is a short interactive intro to notebooks. We'll look at\n",
    "- how Jupyter notebooks work\n",
    "- how to combine markdown, python code, output, plots\n",
    "- and some handy shortcuts."
   ]
  },
  {
   "cell_type": "markdown",
   "metadata": {},
   "source": [
    "## What's a notebook?\n",
    "\n",
    "A notebook consists of multiple cells and each cell can have a different type. The most relevant cell types are *code* and *Markdown*. The cell you're currently reading is [Markdown](https://daringfireball.net/projects/markdown/syntax) and Markdown is used for documentation just like here. Markdown is an easy way to format text using a small set of special characters.\n",
    "\n",
    "[Markdown Cheat-Sheet](https://github.com/adam-p/markdown-here/wiki/Markdown-Cheatsheet)"
   ]
  },
  {
   "cell_type": "markdown",
   "metadata": {},
   "source": [
    "## Editing cells\n",
    "\n",
    "Initially you're in command mode.\n",
    "\n",
    "Click __here__ once.\n",
    "\n",
    "You'll see a box around this section indicating that this is a cell and you've selected it. You can select the cell above or below by using the arrow keys on your keyboard or __J__ and __K__ or by clicking on it once.\n",
    "\n",
    "If you now double-click on this cell you will enter *edit mode* and you see the Markdown source for this cell and the box around it turning green.\n",
    "\n",
    "Try to edit something in this cell and press __ESCAPE__ on your keyboard to exit edit mode. You're now back in command mode - the box around this cell has turned blue again. To return to edit mode either double-click on this cell again or press __ENTER__.\n",
    "\n",
    "A thing to remember is: When you're in command mode many keys have special functions. E.g. __J__ and __K__ to select cells. In edit mode these shortcuts don't work of course as you're editing text or code.\n",
    "\n",
    "You'll notice that this cell is still Markdown source code even when you're in command mode. The reason for this is that you haven't run this cell again after editing it. Let's do that now."
   ]
  },
  {
   "cell_type": "markdown",
   "metadata": {},
   "source": [
    "## Running cells\n",
    "\n",
    "Make sure you've selected the cell you want to run (notice the box around it) and from the menu select *Cell* and then *Run Cells*. This will run all selected cells and the Markdown source code will turn into styled paragraphs again.\n",
    "\n",
    "The shortcut for running selected cells is __CTRL-ENTER__. This shortcut runs from command mode *and* from edit mode."
   ]
  },
  {
   "cell_type": "markdown",
   "metadata": {},
   "source": [
    "## Running code\n",
    "\n",
    "The following cell should be Python code. But we've selected the wrong cell type. So you need to change it in order to run it.\n",
    "\n",
    "Select the cell containing `print(\"Hello world\")` by clicking on it (or using __J__ or __K__) and then from the menu click on *Cell* / *Cell Type* / *Code*.\n",
    "\n",
    "You've now changed the cell type to Python 3 code as this notebook is a Python 3 notebook and you'll notice the syntax highlighting and the \"In [ ]:\" right next to the cell. This indicates code input (hence \"In\"). The empty brackets show that this cell was never run.\n",
    "\n",
    "Run the Python cell now by selecting it and pressing __CTRL-ENTER__."
   ]
  },
  {
   "cell_type": "markdown",
   "metadata": {},
   "source": [
    "print(\"Hello world!\")"
   ]
  },
  {
   "cell_type": "markdown",
   "metadata": {},
   "source": [
    "You've run your first Python code in a Jupyter notebook and below the cell you'll see the output."
   ]
  },
  {
   "cell_type": "markdown",
   "metadata": {},
   "source": [
    "## Editing and running more code\n",
    "\n",
    "The following code has an error. Fix it and run the cell to get familiar with the workflow."
   ]
  },
  {
   "cell_type": "code",
   "execution_count": 1,
   "metadata": {
    "collapsed": false
   },
   "outputs": [
    {
     "ename": "SyntaxError",
     "evalue": "invalid syntax (<ipython-input-1-8f028d5fd575>, line 1)",
     "output_type": "error",
     "traceback": [
      "\u001b[1;36m  File \u001b[1;32m\"<ipython-input-1-8f028d5fd575>\"\u001b[1;36m, line \u001b[1;32m1\u001b[0m\n\u001b[1;33m    for i in range(10)\u001b[0m\n\u001b[1;37m                      ^\u001b[0m\n\u001b[1;31mSyntaxError\u001b[0m\u001b[1;31m:\u001b[0m invalid syntax\n"
     ]
    }
   ],
   "source": [
    "for i in range(10)\n",
    "    print(i)"
   ]
  },
  {
   "cell_type": "markdown",
   "metadata": {},
   "source": [
    "## Running code repeatedly\n",
    "\n",
    "You can run a single cell multiple times. Jupyter will only run that cell and not the whole notebook. This is important to understand and the next example shows what this means.\n",
    "\n",
    "The next cell will use a variable that wasn't defined yet. So it'll fail when you run it."
   ]
  },
  {
   "cell_type": "code",
   "execution_count": null,
   "metadata": {
    "collapsed": false
   },
   "outputs": [],
   "source": [
    "print(\"Hello {}!\".format(name))"
   ]
  },
  {
   "cell_type": "markdown",
   "metadata": {},
   "source": [
    "Now let's assign a value to that name variable. Run the next cell. Feel free to change the name."
   ]
  },
  {
   "cell_type": "code",
   "execution_count": null,
   "metadata": {
    "collapsed": true
   },
   "outputs": [],
   "source": [
    "name = \"Alice\""
   ]
  },
  {
   "cell_type": "markdown",
   "metadata": {},
   "source": [
    "Jupyter (or rather the Python kernel) now has that variable and you can use it anywhere in this notebook. Try it out by running the above cell containing the print statement again. This time it'll work.\n",
    "\n",
    "### Crazy!\n",
    "\n",
    "This might seem crazy and messy but when you work with data it makes a lot of sense. For example you might load data in one cell and train a model in another cell. When you tweak parameters you want to run the model training cell repeatedly without re-loading the data every time."
   ]
  },
  {
   "cell_type": "markdown",
   "metadata": {},
   "source": [
    "## Magic\n",
    "\n",
    "Notebooks can also display plots inline. In order to do this we need magic-commands. Those are commands in a code cell that start with a %.\n",
    "\n",
    "In the next cell we'll import numpy (to create some fake data), matplotlib (to plot data) and use the magic-command to display matplotlib graphs inline.\n",
    "\n",
    "You need to run both of these code cells to first import the modules and then draw the plot."
   ]
  },
  {
   "cell_type": "code",
   "execution_count": null,
   "metadata": {
    "collapsed": true
   },
   "outputs": [],
   "source": [
    "import numpy as np\n",
    "import matplotlib.pyplot as plt\n",
    "%matplotlib inline"
   ]
  },
  {
   "cell_type": "markdown",
   "metadata": {},
   "source": [
    "Now let's create the plot."
   ]
  },
  {
   "cell_type": "code",
   "execution_count": null,
   "metadata": {
    "collapsed": false
   },
   "outputs": [],
   "source": [
    "mean = [0, 0]\n",
    "cov = [[1, 0], [0, 100]]\n",
    "x, y = np.random.multivariate_normal(mean, cov, 5000).T\n",
    "plt.figure(figsize=(20,10))\n",
    "plt.scatter(x, y, facecolor='r', s=50, lw=0.1, alpha=0.5)"
   ]
  },
  {
   "cell_type": "markdown",
   "metadata": {},
   "source": [
    "## Tips\n",
    "\n",
    "- One of the greatest features of Jupyter is __auto-complete__. You can autocomplete variable names in edit mode by pressing __TAB__.\n",
    "- When you're inside the parantheses of a function call you can press __SHIFT-TAB__ to display the parameters you can use.\n",
    "- It's a good idea to restart the kernel when you've lost track of which variables have which values. This can indeed happen when you've run many cells multiple times. In the menu select *Kernel* / *Restart* or *Restart & Clear Outputs* or one of the other options depending on what you want."
   ]
  },
  {
   "cell_type": "markdown",
   "metadata": {},
   "source": [
    "## Shortcuts\n",
    "\n",
    "All of these work when you're in *select mode*. You can find a full list in the menu *Help* / *Keyboard Shortcuts*\n",
    "\n",
    "Key        | Effect\n",
    "------------- |-------------\n",
    "J | select cell below\n",
    "K | select cell above\n",
    "ENTER | enter edit mode\n",
    "CTRL-ENTER | run selected cell\n",
    "M | change cell type to Markdown\n",
    "Y | change cell type to code\n",
    "A | insert cell above\n",
    "B | insert cell below"
   ]
  },
  {
   "cell_type": "markdown",
   "metadata": {},
   "source": [
    "## Congrats!\n",
    "\n",
    "You now know the basics and can use Jupyter notebooks."
   ]
  }
 ],
 "metadata": {
  "kernelspec": {
   "display_name": "Python 3",
   "language": "python",
   "name": "python3"
  },
  "language_info": {
   "codemirror_mode": {
    "name": "ipython",
    "version": 3
   },
   "file_extension": ".py",
   "mimetype": "text/x-python",
   "name": "python",
   "nbconvert_exporter": "python",
   "pygments_lexer": "ipython3",
   "version": "3.4.3+"
  }
 },
 "nbformat": 4,
 "nbformat_minor": 0
}
