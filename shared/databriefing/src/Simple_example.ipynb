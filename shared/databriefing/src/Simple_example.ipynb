{
 "cells": [
  {
   "cell_type": "markdown",
   "metadata": {},
   "source": [
    "# Simple Example Notebook\n",
    "\n",
    "This is just a simple example to get familiar with the environment and see if everything works.\n",
    "\n",
    "It loads the Boston Housing Data Set and makes house price pridictions based on the number of rooms per house.\n",
    "\n",
    "This notebook should display a scatter plot of all 506 data points and a line for our linear model.\n",
    "\n",
    "Find more information about the data set at https://archive.ics.uci.edu/ml/datasets/Housing"
   ]
  },
  {
   "cell_type": "code",
   "execution_count": null,
   "metadata": {
    "collapsed": false
   },
   "outputs": [],
   "source": [
    "import pandas as pd\n",
    "import numpy as np\n",
    "from sklearn import datasets\n",
    "from sklearn.cross_validation import cross_val_predict\n",
    "from sklearn import linear_model\n",
    "import matplotlib.pyplot as plt\n",
    "%matplotlib inline\n",
    "\n",
    "# Load dataset\n",
    "boston = datasets.load_boston()\n",
    "\n",
    "# Use 'number of rooms' as our only feature\n",
    "X = np.reshape(boston.data[:,5], newshape=(boston.data.shape[0], 1))\n",
    "y = np.reshape(boston.target, newshape=(boston.target.shape[0], 1))\n",
    "\n",
    "# Fit a linear regression model to our data\n",
    "lr = linear_model.LinearRegression()\n",
    "lr.fit(X, y)\n",
    "\n",
    "# Predict prices for 4 and 9 room houses\n",
    "test_X = np.reshape([4, 9], (2, 1))\n",
    "test_y_predicted = lr.predict(test_X)\n",
    "\n",
    "# Plot data\n",
    "font = {'family' : 'serif',\n",
    "        'weight' : 'normal',\n",
    "        'size'   : 15}\n",
    "plt.rc('font', **font)\n",
    "plt.figure(figsize=(20,10))\n",
    "plt.scatter(x=X, y=y, label=\"Data\", facecolor='r', s=50, lw=0.1, alpha=0.5)\n",
    "plt.plot(test_X, test_y_predicted, 'k-', lw=3, label=\"Model\")\n",
    "plt.xlabel('Average number of rooms per dwelling')\n",
    "plt.ylabel('Median value of owner-occupied homes in $1000s')\n",
    "plt.legend()"
   ]
  }
 ],
 "metadata": {
  "kernelspec": {
   "display_name": "Python 3",
   "language": "python",
   "name": "python3"
  },
  "language_info": {
   "codemirror_mode": {
    "name": "ipython",
    "version": 3
   },
   "file_extension": ".py",
   "mimetype": "text/x-python",
   "name": "python",
   "nbconvert_exporter": "python",
   "pygments_lexer": "ipython3",
   "version": "3.4.3+"
  }
 },
 "nbformat": 4,
 "nbformat_minor": 0
}
